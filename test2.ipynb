{
 "cells": [
  {
   "cell_type": "code",
   "execution_count": 13,
   "metadata": {},
   "outputs": [
    {
     "name": "stdout",
     "output_type": "stream",
     "text": [
      "[\n",
      "    \"1. \\\"Inexcusable\\\" - current and former Bungie employees react to sweeping layoffs - Eurogamer\",\n",
      "    \"2. Galaxy Z Fold 6 durability test hints at dust troubles, and it caught on fire too [Video] - 9to5Google\",\n",
      "    \"3. Blocking AI bots from Microsoft, others has been \\u201cpain in the a**\\u201d: Reddit CEO - Ars Technica\",\n",
      "    \"4. The iPhone 16 color lineup looks like the best in years - 9to5Mac\",\n",
      "    \"5. The OnePlus Pad 2 is now available and has Android\\u2019s best split-screen system - 9to5Google\",\n",
      "    \"6. A Bunch Of Mario And Kirby Switch Games Are On Sale Right Now - Kotaku\",\n",
      "    \"7. The Best (And Worst) Xbox 360 Moments - Kotaku\",\n",
      "    \"8. Bungie CEO Seemingly Spent Over $2.3 Million On Classic Cars After Sony Acquisition - Kotaku\",\n",
      "    \"9. Google Maps starts using AR to show you the history of Paris - 9to5Google\",\n",
      "    \"10. A first look at Apple Intelligence and its (slightly) smarter Siri - The Verge\",\n",
      "    \"11. Dr Disrespect Makes First Public Comments After Twitch Ban Revelations - ComicBook.com\",\n",
      "    \"12. ChatGPT Advanced Voice Mode impresses testers with sound effects, catching its breath - Ars Technica\",\n",
      "    \"13. Exclusive: Google Pixel 9 Pro sports 8K Video Recording, but there's a catch - Android Headlines\",\n",
      "    \"14. Xbox console sales continue to crater with massive 42% revenue drop - Ars Technica\",\n",
      "    \"15. Google posts Android ad about RCS coming to iPhone [Video] - 9to5Google\",\n",
      "    \"16. New Android malware wipes your device after draining bank accounts - BleepingComputer\",\n",
      "    \"17. Final Fantasy XIV Players Are Up In Arms Over The Latest Patch - Kotaku\",\n",
      "    \"18. PlayStation Plus Free Games For August 2024 Revealed - GameSpot\",\n",
      "    \"19. Microsoft Reveals Transparent Controller That Rekindles Memories of the OG Xbox Era - IGN\",\n",
      "    \"20. Best Buy Has Every M4 iPad Pro on Sale With Multiple Record Low Prices for Members - MacRumors\",\n",
      "    \"21. Inside \\u2018Billionaires\\u2019 Bluff\\u2019: Why Paradise Cove Keeps Drawing the Superrich - The Wall Street Journal\",\n",
      "    \"22. [Removed]\",\n",
      "    \"23. Google's AI Olympics ad featuring Gemini chatbot draws backlash - Axios\",\n",
      "    \"24. Google updates search algorithm to combat explicit deepfakes, improving content removal and adjusting rankings to protect users from non-consensual imagery.\",\n",
      "    \"25. Braid, Anniversary Edition \\u2018Sold Like Dogs**t,\\u2019 Developer Jonathan Blow Says - IGN\",\n",
      "    \"26. Here are the patch notes for The First Descendant's 1.0.5 update which has the launch of Luna and Ultimate Valby.\",\n",
      "    \"27. Palworld community manager believes it's \\\"not healthy\\\" for the industry if players stick to one game - Eurogamer\",\n",
      "    \"28. Intel to Launch \\\"Lunar Lake\\\" Core Ultra Chips on September 3rd - AnandTech\",\n",
      "    \"29. Apple's iOS 17.6 comes with 35 security fixes for serious holes in the iPhone operating system. Here's what you need to know.\",\n",
      "    \"30. Games like Link's Awakening represent the handheld's ability to get weird.\",\n",
      "    \"31. It might soon be time to say goodbye to Apple's supersized regular iPhone.\",\n",
      "    \"32. Google\\u2019s upcoming Pixel Watch 3 is bringing new features and hardware upgrades, but also new minimum requirements, as you\\u2019ll need...\",\n",
      "    \"33. The Nothing Phone 2a Plus follows 2024\\u2019s worst tech trend - Digital Trends\",\n",
      "    \"34. Google has rolled out a critical security update for its Chrome browser, addressing a severe flaw that could lead to browser crashes. The update, now available on the Stable channel, brings Chrome to version 127.0.6533.88/89 for Windows and Mac and 127.0.6533\\u2026\",\n",
      "    \"35. Bumble and Hinge allowed stalkers to pinpoint users\\u2019 locations down to 2 meters, researchers say - TechCrunch\",\n",
      "    \"36. 2025 Chevrolet Corvette ZR1 Versus 2026 Porsche 911 GT2 RS - Forbes\",\n",
      "    \"37. Logitech has revealed its working on a 'forever mouse' in its R&D labs, and that this mouse could be so good it warrants a monthly subscription.\",\n",
      "    \"38. Google Warns 3 Billion Chrome Users\\u2014No New Update For Tracking \\u2018Nightmare\\u2019 - Forbes\",\n",
      "    \"39. Samsung is marketing Galaxy Z Flip phones as police bodycams - Engadget\",\n",
      "    \"40. AI wearables like the Rabbit R1 and the AI Pin have attempted to capitalize on the popularity of artificial intelligence and have largely flopped,...\",\n",
      "    \"41. Electronic Hiking Pants: Arc\\u2019teryx Debuts $5,000 MO/GO Trousers - GearJunkie\",\n",
      "    \"42. Things are getting Tensor between Cupertino and Nv\",\n",
      "    \"43. Galaxy Ring Review: In the ring, but not the champ - 9to5Google\",\n",
      "    \"44. CISA warns of VMware ESXi bug exploited in ransomware attacks - BleepingComputer\",\n",
      "    \"45. Apple\\u2019s entry-level AirPods have already returned to their Prime Day low - The Verge\",\n",
      "    \"46. Apple TV+ \\u2018to offer major price cut to millions\\u2019 according to leak \\u2013 but there\\u2019s a big downside if you agre... - The US Sun\",\n",
      "    \"47. Pagani Utopia Roadster Is One Of The Few Convertibles You Can Get With A Manual Transmission - Jalopnik\",\n",
      "    \"48. Hidden Roku trick that\\u2019s so easy to miss legally unlocks 400 channels plus 15,000 movies and shows from A... - The US Sun\",\n",
      "    \"49. Diablo 4 goes to Hell in a horde mode in season 5 - Polygon\",\n",
      "    \"50. Elden Ring 1.13 official patch notes: Spirit Ashes get a big buff, are no longer second fiddle to Mimic Tear - Windows Central\"\n",
      "]\n"
     ]
    }
   ],
   "source": [
    "import json\n",
    "from utils.utilities import latestNews\n",
    "from dotenv import load_dotenv, find_dotenv\n",
    "\n",
    "load_dotenv(find_dotenv(), override=True)\n",
    "\n",
    "# save_data = latestNews()\n",
    "# news_data = []\n",
    "\n",
    "# for idx, article in enumerate(save_data[\"articles\"]):\n",
    "#     if article[\"description\"]:\n",
    "#         news_data.append(f\"{idx + 1}. {article[\"description\"]}\")\n",
    "#     else:\n",
    "#         news_data.append(f\"{idx + 1}. {article[\"title\"]}\")\n",
    "\n",
    "# with open(\"./test_data/test1.json\", \"w\") as f:\n",
    "#     json.dump(news_data, f)\n",
    "\n",
    "with open(\"./test_data/test1.json\", \"r\") as f:\n",
    "    data = json.load(f)\n",
    "\n",
    "data_string = json.dumps(data, indent=4)\n",
    "print(data_string)\n"
   ]
  },
  {
   "cell_type": "code",
   "execution_count": 67,
   "metadata": {},
   "outputs": [],
   "source": [
    "from openai import OpenAI\n",
    "client = OpenAI()"
   ]
  },
  {
   "cell_type": "code",
   "execution_count": 68,
   "metadata": {},
   "outputs": [],
   "source": [
    "agent_identity = \"You are an expert news trend analysts\"\n",
    "\n",
    "prompt = \"\"\"\n",
    "    You would be provided with a list of news headlines related to various technologies and trends. I need you to identify the top five technology trends from this list. For each identified trend, provide a summary sentence that encapsulates the essence of the trend. Then, further summarize each trend into a single sentence suitable for quick research purposes. \n",
    "    For example:\n",
    "    Artificial Intelligence and Machine Learning: \"Advancements in AI and ML are focusing on enhancing user interactions and addressing ethical concerns through improved voice models and ad technologies.\"\n",
    "    Summarized sentence: Addressing ethical issues with AI and ML advancement\n",
    "\n",
    "    Augmented and Virtual Reality (AR/VR): \"AR and VR technologies are enhancing user experiences by integrating immersive features like AR navigation and historical context in apps.\"\n",
    "    Summarized sentence: AR navigation\n",
    "    \n",
    "    Also in the summary provide areas where this trends are happening, could be security, privacy, user experience, navigation, any small info that would make the summary more granular   \n",
    "\"\"\"\n",
    "\n",
    "output_format = \"\"\"\n",
    "    Your output should be for the following JSON format:\n",
    "    {\n",
    "        \"Summarized sentence\": \"The sentence that summarizes the trend\",\n",
    "    }\n",
    "\n",
    "\"\"\""
   ]
  },
  {
   "cell_type": "code",
   "execution_count": 69,
   "metadata": {},
   "outputs": [],
   "source": [
    "messages = [\n",
    "    {'role': 'system', 'content': agent_identity},\n",
    "    {'role': 'system', 'content': prompt},\n",
    "    {'role': 'user', 'content': output_format},\n",
    "    {'role': 'user', 'content': data_string}\n",
    "]"
   ]
  },
  {
   "cell_type": "code",
   "execution_count": 70,
   "metadata": {},
   "outputs": [],
   "source": [
    "response = client.chat.completions.create(\n",
    "    model=\"gpt-4o-mini\",\n",
    "    response_format={ \"type\": \"json_object\" },    \n",
    "    temperature=0,\n",
    "    messages=messages,\n",
    "    seed=1\n",
    ")"
   ]
  },
  {
   "cell_type": "code",
   "execution_count": 71,
   "metadata": {},
   "outputs": [],
   "source": [
    "agent_response = response.choices[0].message.content\n",
    "tokens_used = response.usage.total_tokens"
   ]
  },
  {
   "cell_type": "code",
   "execution_count": 72,
   "metadata": {},
   "outputs": [
    {
     "data": {
      "text/plain": [
       "1895"
      ]
     },
     "execution_count": 72,
     "metadata": {},
     "output_type": "execute_result"
    }
   ],
   "source": [
    "tokens_used"
   ]
  },
  {
   "cell_type": "code",
   "execution_count": 74,
   "metadata": {},
   "outputs": [
    {
     "data": {
      "text/plain": [
       "{'Artificial Intelligence and Machine Learning': {'Summarized sentence': 'The integration of AI technologies is facing challenges, including backlash over ethical concerns and the need for improved user safety in applications.',\n",
       "  'Quick research summary': 'AI technologies face ethical and safety challenges.'},\n",
       " 'Augmented Reality (AR)': {'Summarized sentence': 'AR is being utilized in applications like Google Maps to enhance user experiences by providing historical context and navigation features.',\n",
       "  'Quick research summary': 'AR enhances navigation and user experience.'},\n",
       " 'Cybersecurity': {'Summarized sentence': 'Recent updates and warnings highlight the ongoing battle against cybersecurity threats, including malware and vulnerabilities in popular software.',\n",
       "  'Quick research summary': 'Cybersecurity threats prompt critical software updates.'},\n",
       " 'Wearable Technology': {'Summarized sentence': 'The market for AI wearables is evolving, with new products emerging but facing challenges in consumer acceptance and functionality.',\n",
       "  'Quick research summary': 'AI wearables struggle with market acceptance.'},\n",
       " 'Mobile Device Innovation': {'Summarized sentence': 'New mobile devices, such as the Galaxy Z Fold 6 and Pixel Watch 3, are being released with advanced features, but also face durability and compatibility issues.',\n",
       "  'Quick research summary': 'New mobile devices face durability and compatibility challenges.'}}"
      ]
     },
     "execution_count": 74,
     "metadata": {},
     "output_type": "execute_result"
    }
   ],
   "source": [
    "json.loads(agent_response)"
   ]
  },
  {
   "cell_type": "code",
   "execution_count": null,
   "metadata": {},
   "outputs": [],
   "source": []
  }
 ],
 "metadata": {
  "kernelspec": {
   "display_name": "Vela",
   "language": "python",
   "name": "python3"
  },
  "language_info": {
   "codemirror_mode": {
    "name": "ipython",
    "version": 3
   },
   "file_extension": ".py",
   "mimetype": "text/x-python",
   "name": "python",
   "nbconvert_exporter": "python",
   "pygments_lexer": "ipython3",
   "version": "3.12.4"
  }
 },
 "nbformat": 4,
 "nbformat_minor": 2
}
